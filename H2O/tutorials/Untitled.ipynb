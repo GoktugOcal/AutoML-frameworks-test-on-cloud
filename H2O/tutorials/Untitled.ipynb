{
 "cells": [
  {
   "cell_type": "code",
   "execution_count": 59,
   "id": "69a560c3",
   "metadata": {},
   "outputs": [],
   "source": [
    "from time import time\n",
    "import pandas as pd\n",
    "from scipy.io.arff import loadarff \n",
    "\n",
    "import h2o\n",
    "from h2o.automl import H2OAutoML"
   ]
  },
  {
   "cell_type": "code",
   "execution_count": null,
   "id": "9cdc9dcc",
   "metadata": {},
   "outputs": [],
   "source": []
  },
  {
   "cell_type": "code",
   "execution_count": 62,
   "id": "b2fb6a05",
   "metadata": {},
   "outputs": [
    {
     "name": "stdout",
     "output_type": "stream",
     "text": [
      "Checking whether there is an H2O instance running at http://localhost:54321 . connected.\n"
     ]
    },
    {
     "data": {
      "text/html": [
       "\n",
       "<style>\n",
       "\n",
       "#h2o-table-12.h2o-container {\n",
       "  overflow-x: auto;\n",
       "}\n",
       "#h2o-table-12 .h2o-table {\n",
       "  /* width: 100%; */\n",
       "  margin-top: 1em;\n",
       "  margin-bottom: 1em;\n",
       "}\n",
       "#h2o-table-12 .h2o-table caption {\n",
       "  white-space: nowrap;\n",
       "  caption-side: top;\n",
       "  text-align: left;\n",
       "  /* margin-left: 1em; */\n",
       "  margin: 0;\n",
       "  font-size: larger;\n",
       "}\n",
       "#h2o-table-12 .h2o-table thead {\n",
       "  white-space: nowrap; \n",
       "  position: sticky;\n",
       "  top: 0;\n",
       "  box-shadow: 0 -1px inset;\n",
       "}\n",
       "#h2o-table-12 .h2o-table tbody {\n",
       "  overflow: auto;\n",
       "}\n",
       "#h2o-table-12 .h2o-table th,\n",
       "#h2o-table-12 .h2o-table td {\n",
       "  text-align: right;\n",
       "  /* border: 1px solid; */\n",
       "}\n",
       "#h2o-table-12 .h2o-table tr:nth-child(even) {\n",
       "  /* background: #F5F5F5 */\n",
       "}\n",
       "\n",
       "</style>      \n",
       "<div id=\"h2o-table-12\" class=\"h2o-container\">\n",
       "  <table class=\"h2o-table\">\n",
       "    <caption></caption>\n",
       "    <thead></thead>\n",
       "    <tbody><tr><td>H2O_cluster_uptime:</td>\n",
       "<td>3 hours 16 mins</td></tr>\n",
       "<tr><td>H2O_cluster_timezone:</td>\n",
       "<td>Europe/Istanbul</td></tr>\n",
       "<tr><td>H2O_data_parsing_timezone:</td>\n",
       "<td>UTC</td></tr>\n",
       "<tr><td>H2O_cluster_version:</td>\n",
       "<td>3.38.0.3</td></tr>\n",
       "<tr><td>H2O_cluster_version_age:</td>\n",
       "<td>13 days </td></tr>\n",
       "<tr><td>H2O_cluster_name:</td>\n",
       "<td>H2O_from_python_goktug_30ldsj</td></tr>\n",
       "<tr><td>H2O_cluster_total_nodes:</td>\n",
       "<td>1</td></tr>\n",
       "<tr><td>H2O_cluster_free_memory:</td>\n",
       "<td>6.709 Gb</td></tr>\n",
       "<tr><td>H2O_cluster_total_cores:</td>\n",
       "<td>32</td></tr>\n",
       "<tr><td>H2O_cluster_allowed_cores:</td>\n",
       "<td>32</td></tr>\n",
       "<tr><td>H2O_cluster_status:</td>\n",
       "<td>locked, healthy</td></tr>\n",
       "<tr><td>H2O_connection_url:</td>\n",
       "<td>http://localhost:54321</td></tr>\n",
       "<tr><td>H2O_connection_proxy:</td>\n",
       "<td>{\"http\": null, \"https\": null}</td></tr>\n",
       "<tr><td>H2O_internal_security:</td>\n",
       "<td>False</td></tr>\n",
       "<tr><td>Python_version:</td>\n",
       "<td>3.10.6 final</td></tr></tbody>\n",
       "  </table>\n",
       "</div>\n"
      ],
      "text/plain": [
       "--------------------------  -----------------------------\n",
       "H2O_cluster_uptime:         3 hours 16 mins\n",
       "H2O_cluster_timezone:       Europe/Istanbul\n",
       "H2O_data_parsing_timezone:  UTC\n",
       "H2O_cluster_version:        3.38.0.3\n",
       "H2O_cluster_version_age:    13 days\n",
       "H2O_cluster_name:           H2O_from_python_goktug_30ldsj\n",
       "H2O_cluster_total_nodes:    1\n",
       "H2O_cluster_free_memory:    6.709 Gb\n",
       "H2O_cluster_total_cores:    32\n",
       "H2O_cluster_allowed_cores:  32\n",
       "H2O_cluster_status:         locked, healthy\n",
       "H2O_connection_url:         http://localhost:54321\n",
       "H2O_connection_proxy:       {\"http\": null, \"https\": null}\n",
       "H2O_internal_security:      False\n",
       "Python_version:             3.10.6 final\n",
       "--------------------------  -----------------------------"
      ]
     },
     "metadata": {},
     "output_type": "display_data"
    }
   ],
   "source": [
    "h2o.init()\n",
    "df_data = pd.read_csv(\"../secondary_data.csv\", delimiter = \";\")"
   ]
  },
  {
   "cell_type": "code",
   "execution_count": 63,
   "id": "ceaf6d6c",
   "metadata": {},
   "outputs": [
    {
     "name": "stdout",
     "output_type": "stream",
     "text": [
      "Parse progress: |████████████████████████████████████████████████████████████████| (done) 100%\n"
     ]
    }
   ],
   "source": [
    "hf = h2o.H2OFrame(df_data)"
   ]
  },
  {
   "cell_type": "code",
   "execution_count": 64,
   "id": "ba984dbd",
   "metadata": {},
   "outputs": [
    {
     "data": {
      "text/html": [
       "<pre style='margin: 1em 0 1em 0;'>Rows:61069\n",
       "Cols:21\n",
       "</pre>"
      ],
      "text/plain": [
       "Rows:61069\n",
       "Cols:21\n"
      ]
     },
     "metadata": {},
     "output_type": "display_data"
    },
    {
     "data": {
      "text/html": [
       "<table class='dataframe'>\n",
       "<thead>\n",
       "<tr><th>       </th><th>class  </th><th>cap-diameter      </th><th>cap-shape  </th><th>cap-surface  </th><th>cap-color  </th><th>does-bruise-or-bleed  </th><th>gill-attachment  </th><th>gill-spacing  </th><th>gill-color  </th><th>stem-height       </th><th>stem-width        </th><th>stem-root  </th><th>stem-surface  </th><th>stem-color  </th><th>veil-type  </th><th>veil-color  </th><th>has-ring  </th><th>ring-type  </th><th>spore-print-color  </th><th>habitat  </th><th>season  </th></tr>\n",
       "</thead>\n",
       "<tbody>\n",
       "<tr><td>type   </td><td>enum   </td><td>real              </td><td>enum       </td><td>enum         </td><td>enum       </td><td>enum                  </td><td>enum             </td><td>enum          </td><td>enum        </td><td>real              </td><td>real              </td><td>enum       </td><td>enum          </td><td>enum        </td><td>enum       </td><td>enum        </td><td>enum      </td><td>enum       </td><td>enum               </td><td>enum     </td><td>enum    </td></tr>\n",
       "<tr><td>mins   </td><td>       </td><td>0.38              </td><td>           </td><td>             </td><td>           </td><td>                      </td><td>                 </td><td>              </td><td>            </td><td>0.0               </td><td>0.0               </td><td>           </td><td>              </td><td>            </td><td>           </td><td>            </td><td>          </td><td>           </td><td>                   </td><td>         </td><td>        </td></tr>\n",
       "<tr><td>mean   </td><td>       </td><td>6.7338544924593355</td><td>           </td><td>             </td><td>           </td><td>                      </td><td>                 </td><td>              </td><td>            </td><td>6.5815382600010235</td><td>12.149410011626216</td><td>           </td><td>              </td><td>            </td><td>           </td><td>            </td><td>          </td><td>           </td><td>                   </td><td>         </td><td>        </td></tr>\n",
       "<tr><td>maxs   </td><td>       </td><td>62.34             </td><td>           </td><td>             </td><td>           </td><td>                      </td><td>                 </td><td>              </td><td>            </td><td>33.92             </td><td>103.91            </td><td>           </td><td>              </td><td>            </td><td>           </td><td>            </td><td>          </td><td>           </td><td>                   </td><td>         </td><td>        </td></tr>\n",
       "<tr><td>sigma  </td><td>       </td><td>5.264844947062989 </td><td>           </td><td>             </td><td>           </td><td>                      </td><td>                 </td><td>              </td><td>            </td><td>3.370016861289655 </td><td>10.035955043117529</td><td>           </td><td>              </td><td>            </td><td>           </td><td>            </td><td>          </td><td>           </td><td>                   </td><td>         </td><td>        </td></tr>\n",
       "<tr><td>zeros  </td><td>       </td><td>0                 </td><td>           </td><td>             </td><td>           </td><td>                      </td><td>                 </td><td>              </td><td>            </td><td>1059              </td><td>1059              </td><td>           </td><td>              </td><td>            </td><td>           </td><td>            </td><td>          </td><td>           </td><td>                   </td><td>         </td><td>        </td></tr>\n",
       "<tr><td>missing</td><td>0      </td><td>0                 </td><td>0          </td><td>0            </td><td>0          </td><td>0                     </td><td>0                </td><td>0             </td><td>0           </td><td>0                 </td><td>0                 </td><td>0          </td><td>0             </td><td>0           </td><td>0          </td><td>0           </td><td>0         </td><td>0          </td><td>0                  </td><td>0        </td><td>0       </td></tr>\n",
       "<tr><td>0      </td><td>p      </td><td>15.26             </td><td>x          </td><td>g            </td><td>o          </td><td>f                     </td><td>e                </td><td>nan           </td><td>w           </td><td>16.95             </td><td>17.09             </td><td>s          </td><td>y             </td><td>w           </td><td>u          </td><td>w           </td><td>t         </td><td>g          </td><td>nan                </td><td>d        </td><td>w       </td></tr>\n",
       "<tr><td>1      </td><td>p      </td><td>16.6              </td><td>x          </td><td>g            </td><td>o          </td><td>f                     </td><td>e                </td><td>nan           </td><td>w           </td><td>17.99             </td><td>18.19             </td><td>s          </td><td>y             </td><td>w           </td><td>u          </td><td>w           </td><td>t         </td><td>g          </td><td>nan                </td><td>d        </td><td>u       </td></tr>\n",
       "<tr><td>2      </td><td>p      </td><td>14.07             </td><td>x          </td><td>g            </td><td>o          </td><td>f                     </td><td>e                </td><td>nan           </td><td>w           </td><td>17.8              </td><td>17.74             </td><td>s          </td><td>y             </td><td>w           </td><td>u          </td><td>w           </td><td>t         </td><td>g          </td><td>nan                </td><td>d        </td><td>w       </td></tr>\n",
       "<tr><td>3      </td><td>p      </td><td>14.17             </td><td>f          </td><td>h            </td><td>e          </td><td>f                     </td><td>e                </td><td>nan           </td><td>w           </td><td>15.77             </td><td>15.98             </td><td>s          </td><td>y             </td><td>w           </td><td>u          </td><td>w           </td><td>t         </td><td>p          </td><td>nan                </td><td>d        </td><td>w       </td></tr>\n",
       "<tr><td>4      </td><td>p      </td><td>14.64             </td><td>x          </td><td>h            </td><td>o          </td><td>f                     </td><td>e                </td><td>nan           </td><td>w           </td><td>16.53             </td><td>17.2              </td><td>s          </td><td>y             </td><td>w           </td><td>u          </td><td>w           </td><td>t         </td><td>p          </td><td>nan                </td><td>d        </td><td>w       </td></tr>\n",
       "<tr><td>5      </td><td>p      </td><td>15.34             </td><td>x          </td><td>g            </td><td>o          </td><td>f                     </td><td>e                </td><td>nan           </td><td>w           </td><td>17.84             </td><td>18.79             </td><td>s          </td><td>y             </td><td>w           </td><td>u          </td><td>w           </td><td>t         </td><td>p          </td><td>nan                </td><td>d        </td><td>u       </td></tr>\n",
       "<tr><td>6      </td><td>p      </td><td>14.85             </td><td>f          </td><td>h            </td><td>o          </td><td>f                     </td><td>e                </td><td>nan           </td><td>w           </td><td>17.71             </td><td>16.89             </td><td>s          </td><td>y             </td><td>w           </td><td>u          </td><td>w           </td><td>t         </td><td>g          </td><td>nan                </td><td>d        </td><td>w       </td></tr>\n",
       "<tr><td>7      </td><td>p      </td><td>14.86             </td><td>x          </td><td>h            </td><td>e          </td><td>f                     </td><td>e                </td><td>nan           </td><td>w           </td><td>17.03             </td><td>17.44             </td><td>s          </td><td>y             </td><td>w           </td><td>u          </td><td>w           </td><td>t         </td><td>p          </td><td>nan                </td><td>d        </td><td>u       </td></tr>\n",
       "<tr><td>8      </td><td>p      </td><td>12.85             </td><td>f          </td><td>g            </td><td>o          </td><td>f                     </td><td>e                </td><td>nan           </td><td>w           </td><td>17.27             </td><td>18.69             </td><td>s          </td><td>y             </td><td>w           </td><td>u          </td><td>w           </td><td>t         </td><td>p          </td><td>nan                </td><td>d        </td><td>a       </td></tr>\n",
       "<tr><td>9      </td><td>p      </td><td>13.55             </td><td>f          </td><td>g            </td><td>e          </td><td>f                     </td><td>e                </td><td>nan           </td><td>w           </td><td>16.04             </td><td>16.88             </td><td>s          </td><td>y             </td><td>w           </td><td>u          </td><td>w           </td><td>t         </td><td>p          </td><td>nan                </td><td>d        </td><td>w       </td></tr>\n",
       "</tbody>\n",
       "</table><pre style='font-size: smaller; margin-bottom: 1em;'>[61069 rows x 21 columns]</pre>"
      ],
      "text/plain": [
       "         class    cap-diameter        cap-shape    cap-surface    cap-color    does-bruise-or-bleed    gill-attachment    gill-spacing    gill-color    stem-height         stem-width          stem-root    stem-surface    stem-color    veil-type    veil-color    has-ring    ring-type    spore-print-color    habitat    season\n",
       "-------  -------  ------------------  -----------  -------------  -----------  ----------------------  -----------------  --------------  ------------  ------------------  ------------------  -----------  --------------  ------------  -----------  ------------  ----------  -----------  -------------------  ---------  --------\n",
       "type     enum     real                enum         enum           enum         enum                    enum               enum            enum          real                real                enum         enum            enum          enum         enum          enum        enum         enum                 enum       enum\n",
       "mins              0.38                                                                                                                                  0.0                 0.0\n",
       "mean              6.7338544924593355                                                                                                                    6.5815382600010235  12.149410011626216\n",
       "maxs              62.34                                                                                                                                 33.92               103.91\n",
       "sigma             5.264844947062989                                                                                                                     3.370016861289655   10.035955043117529\n",
       "zeros             0                                                                                                                                     1059                1059\n",
       "missing  0        0                   0            0              0            0                       0                  0               0             0                   0                   0            0               0             0            0             0           0            0                    0          0\n",
       "0        p        15.26               x            g              o            f                       e                  nan             w             16.95               17.09               s            y               w             u            w             t           g            nan                  d          w\n",
       "1        p        16.6                x            g              o            f                       e                  nan             w             17.99               18.19               s            y               w             u            w             t           g            nan                  d          u\n",
       "2        p        14.07               x            g              o            f                       e                  nan             w             17.8                17.74               s            y               w             u            w             t           g            nan                  d          w\n",
       "3        p        14.17               f            h              e            f                       e                  nan             w             15.77               15.98               s            y               w             u            w             t           p            nan                  d          w\n",
       "4        p        14.64               x            h              o            f                       e                  nan             w             16.53               17.2                s            y               w             u            w             t           p            nan                  d          w\n",
       "5        p        15.34               x            g              o            f                       e                  nan             w             17.84               18.79               s            y               w             u            w             t           p            nan                  d          u\n",
       "6        p        14.85               f            h              o            f                       e                  nan             w             17.71               16.89               s            y               w             u            w             t           g            nan                  d          w\n",
       "7        p        14.86               x            h              e            f                       e                  nan             w             17.03               17.44               s            y               w             u            w             t           p            nan                  d          u\n",
       "8        p        12.85               f            g              o            f                       e                  nan             w             17.27               18.69               s            y               w             u            w             t           p            nan                  d          a\n",
       "9        p        13.55               f            g              e            f                       e                  nan             w             16.04               16.88               s            y               w             u            w             t           p            nan                  d          w\n",
       "[61069 rows x 21 columns]\n"
      ]
     },
     "metadata": {},
     "output_type": "display_data"
    }
   ],
   "source": [
    "hf.describe()"
   ]
  },
  {
   "cell_type": "code",
   "execution_count": 65,
   "id": "eff53e6a",
   "metadata": {},
   "outputs": [],
   "source": [
    "y = \"class\"\n",
    "x = hf.columns"
   ]
  },
  {
   "cell_type": "code",
   "execution_count": 66,
   "id": "c951df60",
   "metadata": {},
   "outputs": [
    {
     "name": "stdout",
     "output_type": "stream",
     "text": [
      "AutoML progress: |███████████ (cancelled)\n"
     ]
    },
    {
     "ename": "H2OJobCancelled",
     "evalue": "Job<$03017f00000132d4ffffffff$_a57d067bff34b49561aaf3600dc54f52> was cancelled by the user.",
     "output_type": "error",
     "traceback": [
      "\u001b[0;31m---------------------------------------------------------------------------\u001b[0m",
      "\u001b[0;31mH2OJobCancelled\u001b[0m                           Traceback (most recent call last)",
      "Cell \u001b[0;32mIn [66], line 3\u001b[0m\n\u001b[1;32m      1\u001b[0m s \u001b[38;5;241m=\u001b[39m time()\n\u001b[1;32m      2\u001b[0m aml \u001b[38;5;241m=\u001b[39m H2OAutoML(max_models \u001b[38;5;241m=\u001b[39m \u001b[38;5;241m10\u001b[39m, seed \u001b[38;5;241m=\u001b[39m \u001b[38;5;241m1\u001b[39m)\n\u001b[0;32m----> 3\u001b[0m \u001b[43maml\u001b[49m\u001b[38;5;241;43m.\u001b[39;49m\u001b[43mtrain\u001b[49m\u001b[43m(\u001b[49m\u001b[43mx\u001b[49m\u001b[43m \u001b[49m\u001b[38;5;241;43m=\u001b[39;49m\u001b[43m \u001b[49m\u001b[43mx\u001b[49m\u001b[43m,\u001b[49m\u001b[43m \u001b[49m\u001b[43my\u001b[49m\u001b[43m \u001b[49m\u001b[38;5;241;43m=\u001b[39;49m\u001b[43m \u001b[49m\u001b[43my\u001b[49m\u001b[43m,\u001b[49m\u001b[43m \u001b[49m\u001b[43mtraining_frame\u001b[49m\u001b[43m \u001b[49m\u001b[38;5;241;43m=\u001b[39;49m\u001b[43m \u001b[49m\u001b[43mhf\u001b[49m\u001b[43m)\u001b[49m\n\u001b[1;32m      5\u001b[0m \u001b[38;5;28mprint\u001b[39m(\u001b[38;5;124m\"\u001b[39m\u001b[38;5;124mExecution Time :\u001b[39m\u001b[38;5;124m\"\u001b[39m, time() \u001b[38;5;241m-\u001b[39m s)\n",
      "File \u001b[0;32m~/python_envs/cmpe/lib/python3.10/site-packages/h2o/automl/_estimator.py:679\u001b[0m, in \u001b[0;36mH2OAutoML.train\u001b[0;34m(self, x, y, training_frame, fold_column, weights_column, validation_frame, leaderboard_frame, blending_frame)\u001b[0m\n\u001b[1;32m    677\u001b[0m poll_updates \u001b[38;5;241m=\u001b[39m ft\u001b[38;5;241m.\u001b[39mpartial(\u001b[38;5;28mself\u001b[39m\u001b[38;5;241m.\u001b[39m_poll_training_updates, verbosity\u001b[38;5;241m=\u001b[39m\u001b[38;5;28mself\u001b[39m\u001b[38;5;241m.\u001b[39m_verbosity, state\u001b[38;5;241m=\u001b[39m{})\n\u001b[1;32m    678\u001b[0m \u001b[38;5;28;01mtry\u001b[39;00m:\n\u001b[0;32m--> 679\u001b[0m     \u001b[38;5;28;43mself\u001b[39;49m\u001b[38;5;241;43m.\u001b[39;49m\u001b[43m_job\u001b[49m\u001b[38;5;241;43m.\u001b[39;49m\u001b[43mpoll\u001b[49m\u001b[43m(\u001b[49m\u001b[43mpoll_updates\u001b[49m\u001b[38;5;241;43m=\u001b[39;49m\u001b[43mpoll_updates\u001b[49m\u001b[43m)\u001b[49m\n\u001b[1;32m    680\u001b[0m \u001b[38;5;28;01mfinally\u001b[39;00m:\n\u001b[1;32m    681\u001b[0m     poll_updates(\u001b[38;5;28mself\u001b[39m\u001b[38;5;241m.\u001b[39m_job, \u001b[38;5;241m1\u001b[39m)\n",
      "File \u001b[0;32m~/python_envs/cmpe/lib/python3.10/site-packages/h2o/job.py:87\u001b[0m, in \u001b[0;36mH2OJob.poll\u001b[0;34m(self, poll_updates)\u001b[0m\n\u001b[1;32m     85\u001b[0m \u001b[38;5;66;03m# check if failed... and politely print relevant message\u001b[39;00m\n\u001b[1;32m     86\u001b[0m \u001b[38;5;28;01mif\u001b[39;00m \u001b[38;5;28mself\u001b[39m\u001b[38;5;241m.\u001b[39mstatus \u001b[38;5;241m==\u001b[39m \u001b[38;5;124m\"\u001b[39m\u001b[38;5;124mCANCELLED\u001b[39m\u001b[38;5;124m\"\u001b[39m:\n\u001b[0;32m---> 87\u001b[0m     \u001b[38;5;28;01mraise\u001b[39;00m H2OJobCancelled(\u001b[38;5;124m\"\u001b[39m\u001b[38;5;124mJob<\u001b[39m\u001b[38;5;132;01m%s\u001b[39;00m\u001b[38;5;124m> was cancelled by the user.\u001b[39m\u001b[38;5;124m\"\u001b[39m \u001b[38;5;241m%\u001b[39m \u001b[38;5;28mself\u001b[39m\u001b[38;5;241m.\u001b[39mjob_key)\n\u001b[1;32m     88\u001b[0m \u001b[38;5;28;01mif\u001b[39;00m \u001b[38;5;28mself\u001b[39m\u001b[38;5;241m.\u001b[39mstatus \u001b[38;5;241m==\u001b[39m \u001b[38;5;124m\"\u001b[39m\u001b[38;5;124mFAILED\u001b[39m\u001b[38;5;124m\"\u001b[39m:\n\u001b[1;32m     89\u001b[0m     \u001b[38;5;28;01mif\u001b[39;00m (\u001b[38;5;28misinstance\u001b[39m(\u001b[38;5;28mself\u001b[39m\u001b[38;5;241m.\u001b[39mjob, \u001b[38;5;28mdict\u001b[39m)) \u001b[38;5;129;01mand\u001b[39;00m (\u001b[38;5;124m\"\u001b[39m\u001b[38;5;124mstacktrace\u001b[39m\u001b[38;5;124m\"\u001b[39m \u001b[38;5;129;01min\u001b[39;00m \u001b[38;5;28mlist\u001b[39m(\u001b[38;5;28mself\u001b[39m\u001b[38;5;241m.\u001b[39mjob)):\n",
      "\u001b[0;31mH2OJobCancelled\u001b[0m: Job<$03017f00000132d4ffffffff$_a57d067bff34b49561aaf3600dc54f52> was cancelled by the user."
     ]
    }
   ],
   "source": [
    "s = time()\n",
    "aml = H2OAutoML(max_models = 10, seed = 1)\n",
    "aml.train(x = x, y = y, training_frame = hf)\n",
    "\n",
    "print(\"Execution Time :\", time() - s)"
   ]
  },
  {
   "cell_type": "code",
   "execution_count": 37,
   "id": "8f42ac62",
   "metadata": {},
   "outputs": [
    {
     "data": {
      "text/html": [
       "<table class='dataframe'>\n",
       "<thead>\n",
       "<tr><th>model_id                                               </th><th style=\"text-align: right;\">   rmse</th><th style=\"text-align: right;\">    mse</th><th style=\"text-align: right;\">     mae</th><th style=\"text-align: right;\">   rmsle</th><th style=\"text-align: right;\">  mean_residual_deviance</th></tr>\n",
       "</thead>\n",
       "<tbody>\n",
       "<tr><td>StackedEnsemble_AllModels_1_AutoML_7_20221206_221349   </td><td style=\"text-align: right;\">1.10923</td><td style=\"text-align: right;\">1.23038</td><td style=\"text-align: right;\">0.751965</td><td style=\"text-align: right;\">0.258596</td><td style=\"text-align: right;\">                 1.23038</td></tr>\n",
       "<tr><td>StackedEnsemble_BestOfFamily_1_AutoML_7_20221206_221349</td><td style=\"text-align: right;\">1.13126</td><td style=\"text-align: right;\">1.27975</td><td style=\"text-align: right;\">0.771815</td><td style=\"text-align: right;\">0.265095</td><td style=\"text-align: right;\">                 1.27975</td></tr>\n",
       "<tr><td>GBM_4_AutoML_7_20221206_221349                         </td><td style=\"text-align: right;\">1.1721 </td><td style=\"text-align: right;\">1.37381</td><td style=\"text-align: right;\">0.805219</td><td style=\"text-align: right;\">0.275647</td><td style=\"text-align: right;\">                 1.37381</td></tr>\n",
       "<tr><td>XGBoost_3_AutoML_7_20221206_221349                     </td><td style=\"text-align: right;\">1.17965</td><td style=\"text-align: right;\">1.39157</td><td style=\"text-align: right;\">0.824785</td><td style=\"text-align: right;\">0.273234</td><td style=\"text-align: right;\">                 1.39157</td></tr>\n",
       "<tr><td>GBM_1_AutoML_7_20221206_221349                         </td><td style=\"text-align: right;\">1.18082</td><td style=\"text-align: right;\">1.39433</td><td style=\"text-align: right;\">0.828727</td><td style=\"text-align: right;\">0.278884</td><td style=\"text-align: right;\">                 1.39433</td></tr>\n",
       "<tr><td>GBM_3_AutoML_7_20221206_221349                         </td><td style=\"text-align: right;\">1.18552</td><td style=\"text-align: right;\">1.40546</td><td style=\"text-align: right;\">0.818683</td><td style=\"text-align: right;\">0.278678</td><td style=\"text-align: right;\">                 1.40546</td></tr>\n",
       "<tr><td>GBM_2_AutoML_7_20221206_221349                         </td><td style=\"text-align: right;\">1.19477</td><td style=\"text-align: right;\">1.42748</td><td style=\"text-align: right;\">0.828012</td><td style=\"text-align: right;\">0.281299</td><td style=\"text-align: right;\">                 1.42748</td></tr>\n",
       "<tr><td>DRF_1_AutoML_7_20221206_221349                         </td><td style=\"text-align: right;\">1.20444</td><td style=\"text-align: right;\">1.45066</td><td style=\"text-align: right;\">0.826033</td><td style=\"text-align: right;\">0.284196</td><td style=\"text-align: right;\">                 1.45066</td></tr>\n",
       "<tr><td>XRT_1_AutoML_7_20221206_221349                         </td><td style=\"text-align: right;\">1.20611</td><td style=\"text-align: right;\">1.45469</td><td style=\"text-align: right;\">0.82767 </td><td style=\"text-align: right;\">0.284439</td><td style=\"text-align: right;\">                 1.45469</td></tr>\n",
       "<tr><td>XGBoost_2_AutoML_7_20221206_221349                     </td><td style=\"text-align: right;\">1.21013</td><td style=\"text-align: right;\">1.46441</td><td style=\"text-align: right;\">0.827073</td><td style=\"text-align: right;\">0.279038</td><td style=\"text-align: right;\">                 1.46441</td></tr>\n",
       "</tbody>\n",
       "</table><pre style='font-size: smaller; margin-bottom: 1em;'>[12 rows x 6 columns]</pre>"
      ],
      "text/plain": [
       "model_id                                                    rmse      mse       mae     rmsle    mean_residual_deviance\n",
       "-------------------------------------------------------  -------  -------  --------  --------  ------------------------\n",
       "StackedEnsemble_AllModels_1_AutoML_7_20221206_221349     1.10923  1.23038  0.751965  0.258596                   1.23038\n",
       "StackedEnsemble_BestOfFamily_1_AutoML_7_20221206_221349  1.13126  1.27975  0.771815  0.265095                   1.27975\n",
       "GBM_4_AutoML_7_20221206_221349                           1.1721   1.37381  0.805219  0.275647                   1.37381\n",
       "XGBoost_3_AutoML_7_20221206_221349                       1.17965  1.39157  0.824785  0.273234                   1.39157\n",
       "GBM_1_AutoML_7_20221206_221349                           1.18082  1.39433  0.828727  0.278884                   1.39433\n",
       "GBM_3_AutoML_7_20221206_221349                           1.18552  1.40546  0.818683  0.278678                   1.40546\n",
       "GBM_2_AutoML_7_20221206_221349                           1.19477  1.42748  0.828012  0.281299                   1.42748\n",
       "DRF_1_AutoML_7_20221206_221349                           1.20444  1.45066  0.826033  0.284196                   1.45066\n",
       "XRT_1_AutoML_7_20221206_221349                           1.20611  1.45469  0.82767   0.284439                   1.45469\n",
       "XGBoost_2_AutoML_7_20221206_221349                       1.21013  1.46441  0.827073  0.279038                   1.46441\n",
       "[12 rows x 6 columns]\n"
      ]
     },
     "execution_count": 37,
     "metadata": {},
     "output_type": "execute_result"
    }
   ],
   "source": [
    "lb = aml.leaderboard\n",
    "lb"
   ]
  },
  {
   "cell_type": "code",
   "execution_count": null,
   "id": "37e85bfe",
   "metadata": {},
   "outputs": [],
   "source": []
  }
 ],
 "metadata": {
  "kernelspec": {
   "display_name": "Python 3 (ipykernel)",
   "language": "python",
   "name": "python3"
  },
  "language_info": {
   "codemirror_mode": {
    "name": "ipython",
    "version": 3
   },
   "file_extension": ".py",
   "mimetype": "text/x-python",
   "name": "python",
   "nbconvert_exporter": "python",
   "pygments_lexer": "ipython3",
   "version": "3.10.6"
  }
 },
 "nbformat": 4,
 "nbformat_minor": 5
}
